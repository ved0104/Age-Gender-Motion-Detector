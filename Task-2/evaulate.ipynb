{
 "cells": [
  {
   "cell_type": "code",
   "execution_count": 2,
   "metadata": {},
   "outputs": [
    {
     "name": "stderr",
     "output_type": "stream",
     "text": [
      "WARNING:absl:Compiled the loaded model, but the compiled metrics have yet to be built. `model.compile_metrics` will be empty until you train or evaluate the model.\n"
     ]
    },
    {
     "name": "stdout",
     "output_type": "stream",
     "text": [
      "\u001b[1m741/741\u001b[0m \u001b[32m━━━━━━━━━━━━━━━━━━━━\u001b[0m\u001b[37m\u001b[0m \u001b[1m24s\u001b[0m 29ms/step - age_loss: 27.7493 - age_mean_absolute_error: 3.2733 - gender_accuracy: 0.9133 - gender_loss: 0.2204 - hair_length_accuracy: 0.7397 - hair_length_loss: 0.5412 - loss: 28.5109\n",
      "\n",
      "Evaluation Results:\n",
      "Total Loss: 38.7545\n",
      "Age Loss: 38.1393 | Age MAE: 3.8095\n",
      "Gender Loss: 0.1713 | Gender Accuracy: 0.9355\n",
      "Hair Length Loss: 0.4418 | Hair Length Accuracy: 0.7960\n",
      "\u001b[1m741/741\u001b[0m \u001b[32m━━━━━━━━━━━━━━━━━━━━\u001b[0m\u001b[37m\u001b[0m \u001b[1m22s\u001b[0m 28ms/step\n",
      "\n",
      "Gender Prediction Classification Report:\n",
      "              precision    recall  f1-score   support\n",
      "\n",
      "           0       0.93      0.95      0.94     12391\n",
      "           1       0.94      0.92      0.93     11317\n",
      "\n",
      "    accuracy                           0.94     23708\n",
      "   macro avg       0.94      0.93      0.94     23708\n",
      "weighted avg       0.94      0.94      0.94     23708\n",
      "\n",
      "Confusion Matrix:\n",
      "[[11764   627]\n",
      " [  902 10415]]\n"
     ]
    }
   ],
   "source": [
    "import os\n",
    "import numpy as np\n",
    "import tensorflow as tf\n",
    "from PIL import Image\n",
    "from sklearn.metrics import classification_report, confusion_matrix\n",
    "\n",
    "model = tf.keras.models.load_model(\n",
    "    \"gender_age_hair_model.h5\",\n",
    "    custom_objects={\n",
    "        'mse': tf.keras.losses.MeanSquaredError(),\n",
    "        'binary_crossentropy': tf.keras.losses.BinaryCrossentropy(),\n",
    "        'mae': tf.keras.metrics.MeanAbsoluteError(),\n",
    "        'accuracy': tf.keras.metrics.BinaryAccuracy()\n",
    "    }\n",
    ")\n",
    "\n",
    "def load_test_data(dataset_path, img_size=(128, 128)):\n",
    "    images, ages, genders = [], [], []\n",
    "    \n",
    "    for filename in os.listdir(dataset_path):\n",
    "        if filename.endswith(\".jpg\"):\n",
    "            parts = filename.split(\"_\")\n",
    "            age = int(parts[0])\n",
    "            gender = int(parts[1])\n",
    "            img = Image.open(os.path.join(dataset_path, filename)).convert(\"RGB\")\n",
    "            img = img.resize(img_size)\n",
    "            img = np.array(img) / 255.0\n",
    "            images.append(img)\n",
    "            ages.append(age)\n",
    "            genders.append(gender)\n",
    "    \n",
    "    images = np.array(images)\n",
    "    ages = np.array(ages)\n",
    "    genders = np.array(genders)\n",
    "    \n",
    "    hair_length = []\n",
    "    for age, gender in zip(ages, genders):\n",
    "        if 20 <= age <= 30:\n",
    "            hair_length.append(gender)\n",
    "        else:\n",
    "            hair_length.append(1 - gender)\n",
    "    hair_length = np.array(hair_length)\n",
    "    \n",
    "    return images, ages, genders, hair_length\n",
    "\n",
    "test_dataset_path = \"UTKFace\"\n",
    "X_test, y_age_test, y_gender_test, y_hair_test = load_test_data(test_dataset_path)\n",
    "\n",
    "eval_results = model.evaluate(\n",
    "    X_test,\n",
    "    {'age': y_age_test, 'gender': y_gender_test, 'hair_length': y_hair_test},\n",
    "    verbose=1\n",
    ")\n",
    "\n",
    "print(\"\\nEvaluation Results:\")\n",
    "print(f\"Total Loss: {eval_results[0]:.4f}\")\n",
    "print(f\"Age Loss: {eval_results[1]:.4f} | Age MAE: {eval_results[4]:.4f}\")\n",
    "print(f\"Gender Loss: {eval_results[2]:.4f} | Gender Accuracy: {eval_results[5]:.4f}\")\n",
    "print(f\"Hair Length Loss: {eval_results[3]:.4f} | Hair Length Accuracy: {eval_results[6]:.4f}\")\n",
    "\n",
    "_, gender_preds, _ = model.predict(X_test)\n",
    "gender_preds_bin = (gender_preds > 0.5).astype(int)\n",
    "print(\"\\nGender Prediction Classification Report:\")\n",
    "print(classification_report(y_gender_test, gender_preds_bin))\n",
    "print(\"Confusion Matrix:\")\n",
    "print(confusion_matrix(y_gender_test, gender_preds_bin))\n"
   ]
  },
  {
   "cell_type": "code",
   "execution_count": null,
   "metadata": {},
   "outputs": [],
   "source": []
  }
 ],
 "metadata": {
  "kernelspec": {
   "display_name": "Python 3",
   "language": "python",
   "name": "python3"
  },
  "language_info": {
   "codemirror_mode": {
    "name": "ipython",
    "version": 3
   },
   "file_extension": ".py",
   "mimetype": "text/x-python",
   "name": "python",
   "nbconvert_exporter": "python",
   "pygments_lexer": "ipython3",
   "version": "3.12.8"
  }
 },
 "nbformat": 4,
 "nbformat_minor": 2
}
